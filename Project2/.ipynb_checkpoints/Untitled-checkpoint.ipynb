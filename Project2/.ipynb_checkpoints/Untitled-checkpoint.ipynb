{
 "cells": [
  {
   "cell_type": "code",
   "execution_count": 1,
   "metadata": {
    "collapsed": true
   },
   "outputs": [],
   "source": [
    "import pandas as pd\n",
    "import numpy as np\n",
    "import matplotlib.pyplot as plt\n",
    "import matplotlib as mpl\n",
    "pd.set_option('max_columns', 50)\n",
    "mpl.rcParams['lines.linewidth'] = 2\n",
    "\n",
    "%matplotlib inline"
   ]
  },
  {
   "cell_type": "code",
   "execution_count": 9,
   "metadata": {
    "collapsed": false
   },
   "outputs": [
    {
     "data": {
      "text/html": [
       "<div>\n",
       "<table border=\"1\" class=\"dataframe\">\n",
       "  <thead>\n",
       "    <tr style=\"text-align: right;\">\n",
       "      <th></th>\n",
       "      <th>Unnamed: 0</th>\n",
       "      <th>datetime</th>\n",
       "      <th>game_basic_cash</th>\n",
       "      <th>game_basic_level</th>\n",
       "      <th>platform</th>\n",
       "      <th>sample_ratio</th>\n",
       "      <th>session_id</th>\n",
       "      <th>single_player_status_node_id</th>\n",
       "      <th>single_player_status_tries</th>\n",
       "      <th>single_player_status_type</th>\n",
       "      <th>user_id</th>\n",
       "      <th>version</th>\n",
       "    </tr>\n",
       "  </thead>\n",
       "  <tbody>\n",
       "    <tr>\n",
       "      <th>0</th>\n",
       "      <td>1</td>\n",
       "      <td>2015-04-07</td>\n",
       "      <td>12</td>\n",
       "      <td>1</td>\n",
       "      <td>android</td>\n",
       "      <td>1</td>\n",
       "      <td>61949138</td>\n",
       "      <td>1.0</td>\n",
       "      <td>NaN</td>\n",
       "      <td>pve</td>\n",
       "      <td>2.000000e+00</td>\n",
       "      <td>9999999999</td>\n",
       "    </tr>\n",
       "    <tr>\n",
       "      <th>1</th>\n",
       "      <td>2</td>\n",
       "      <td>2015-04-19</td>\n",
       "      <td>12</td>\n",
       "      <td>1</td>\n",
       "      <td>android</td>\n",
       "      <td>1</td>\n",
       "      <td>2192785</td>\n",
       "      <td>1.0</td>\n",
       "      <td>NaN</td>\n",
       "      <td>pve</td>\n",
       "      <td>1.940917e+14</td>\n",
       "      <td>1504131647</td>\n",
       "    </tr>\n",
       "    <tr>\n",
       "      <th>2</th>\n",
       "      <td>3</td>\n",
       "      <td>2015-04-24</td>\n",
       "      <td>12</td>\n",
       "      <td>1</td>\n",
       "      <td>android</td>\n",
       "      <td>1</td>\n",
       "      <td>89103400</td>\n",
       "      <td>1.0</td>\n",
       "      <td>NaN</td>\n",
       "      <td>pve</td>\n",
       "      <td>6.785729e+17</td>\n",
       "      <td>1504201327</td>\n",
       "    </tr>\n",
       "    <tr>\n",
       "      <th>3</th>\n",
       "      <td>4</td>\n",
       "      <td>2015-04-24</td>\n",
       "      <td>13</td>\n",
       "      <td>2</td>\n",
       "      <td>android</td>\n",
       "      <td>1</td>\n",
       "      <td>89103400</td>\n",
       "      <td>2.0</td>\n",
       "      <td>NaN</td>\n",
       "      <td>pve</td>\n",
       "      <td>6.785729e+17</td>\n",
       "      <td>1504201327</td>\n",
       "    </tr>\n",
       "    <tr>\n",
       "      <th>4</th>\n",
       "      <td>5</td>\n",
       "      <td>2015-04-25</td>\n",
       "      <td>13</td>\n",
       "      <td>2</td>\n",
       "      <td>android</td>\n",
       "      <td>1</td>\n",
       "      <td>56945389</td>\n",
       "      <td>1.0</td>\n",
       "      <td>NaN</td>\n",
       "      <td>pve</td>\n",
       "      <td>6.785729e+17</td>\n",
       "      <td>1504201327</td>\n",
       "    </tr>\n",
       "  </tbody>\n",
       "</table>\n",
       "</div>"
      ],
      "text/plain": [
       "   Unnamed: 0    datetime  game_basic_cash  game_basic_level platform  \\\n",
       "0           1  2015-04-07               12                 1  android   \n",
       "1           2  2015-04-19               12                 1  android   \n",
       "2           3  2015-04-24               12                 1  android   \n",
       "3           4  2015-04-24               13                 2  android   \n",
       "4           5  2015-04-25               13                 2  android   \n",
       "\n",
       "   sample_ratio  session_id  single_player_status_node_id  \\\n",
       "0             1    61949138                           1.0   \n",
       "1             1     2192785                           1.0   \n",
       "2             1    89103400                           1.0   \n",
       "3             1    89103400                           2.0   \n",
       "4             1    56945389                           1.0   \n",
       "\n",
       "   single_player_status_tries single_player_status_type       user_id  \\\n",
       "0                         NaN                       pve  2.000000e+00   \n",
       "1                         NaN                       pve  1.940917e+14   \n",
       "2                         NaN                       pve  6.785729e+17   \n",
       "3                         NaN                       pve  6.785729e+17   \n",
       "4                         NaN                       pve  6.785729e+17   \n",
       "\n",
       "      version  \n",
       "0  9999999999  \n",
       "1  1504131647  \n",
       "2  1504201327  \n",
       "3  1504201327  \n",
       "4  1504201327  "
      ]
     },
     "execution_count": 9,
     "metadata": {},
     "output_type": "execute_result"
    }
   ],
   "source": [
    "df_bat.head()"
   ]
  },
  {
   "cell_type": "code",
   "execution_count": 7,
   "metadata": {
    "collapsed": false
   },
   "outputs": [],
   "source": [
    "df_bat = pd.read_csv('sh_battles.csv')\n",
    "df_ses = pd.read_csv('sh_session.csv')\n",
    "df_user = pd.read_csv('sh_user.csv')"
   ]
  },
  {
   "cell_type": "code",
   "execution_count": null,
   "metadata": {
    "collapsed": true
   },
   "outputs": [],
   "source": [
    "df_"
   ]
  },
  {
   "cell_type": "code",
   "execution_count": null,
   "metadata": {
    "collapsed": true
   },
   "outputs": [],
   "source": [
    "df_new = pd.merge(df,df_user,on = 'user_id')"
   ]
  }
 ],
 "metadata": {
  "kernelspec": {
   "display_name": "Python 2",
   "language": "python",
   "name": "python2"
  },
  "language_info": {
   "codemirror_mode": {
    "name": "ipython",
    "version": 2
   },
   "file_extension": ".py",
   "mimetype": "text/x-python",
   "name": "python",
   "nbconvert_exporter": "python",
   "pygments_lexer": "ipython2",
   "version": "2.7.12"
  }
 },
 "nbformat": 4,
 "nbformat_minor": 1
}
